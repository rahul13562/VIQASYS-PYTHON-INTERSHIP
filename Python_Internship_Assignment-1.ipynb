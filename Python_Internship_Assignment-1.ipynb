{
 "cells": [
  {
   "cell_type": "markdown",
   "metadata": {},
   "source": [
    "___\n",
    "\n",
    "<a href='https://viqasys.com/wp-content/uploads/2021/07/ns1.png'><img src='https://viqasys.com/wp-content/uploads/2021/07/ns1.png'/></a>\n",
    "___\n",
    "<center><em>Content Copyright VIQASYS INNOVATIONS PVT LTD.</em></center>\n",
    "\n",
    "# Assignment 1"
   ]
  },
  {
   "cell_type": "markdown",
   "metadata": {},
   "source": [
    "# Question 1\n",
    "\n",
    "In the below elements, identify which of them are values or expressions. Values can be integers or strings, while expressions will be mathematical operators or combinations thereof.\n",
    "'hello', \n",
    "-87., ), o, lu, alu, ssion)'(Value))str\" (Value)"
   ]
  },
  {
   "cell_type": "markdown",
   "metadata": {},
   "source": [
    "From the given elements:\n",
    "\n",
    "- Values: 'hello', -87, o, lu, alu, ssion, (Value), str\n",
    "- Expressions: ), +, '\n",
    "\n",
    "Here is the breakdown:\n",
    "\n",
    "- 'hello': Value (string)\n",
    "- -87: Value (integer)\n",
    "- o, lu, alu, ssion: Values (these seem like variable names)\n",
    "- (Value): Value (expression within parentheses)\n",
    "- str: Value (string, although it can also be a function in some contexts)\n",
    "- ), +, ': Expressions (closing parenthesis, addition operator, single quotation mark)\n"
   ]
  },
  {
   "cell_type": "markdown",
   "metadata": {},
   "source": [
    "## Question 2\n",
    "\n",
    "Explain the difference between a string and a variable.\n"
   ]
  },
  {
   "cell_type": "markdown",
   "metadata": {},
   "source": [
    "A string and a variable are both fundamental concepts in computer programming, but they serve different purposes:\n",
    "\n",
    "1. String:\n",
    "   - A string is a data type used to represent text or a sequence of characters.\n",
    "   - It is typically enclosed within single quotes (' ') or double quotes (\" \") in most programming languages.\n",
    "   - Examples of strings include \"hello\", \"123\", \"This is a string!\", etc.\n",
    "   - Strings are immutable in many programming languages, meaning they cannot be changed once created.\n",
    "\n",
    "2. Variable:\n",
    "   - A variable is a symbolic name or identifier associated with a value in a computer program.\n",
    "   - It serves as a placeholder for storing data that can be changed or manipulated during the execution of the program.\n",
    "   - Variables can hold various types of data, including strings, integers, floating-point numbers, boolean values, etc.\n",
    "   - Unlike strings, variables can represent different types of data, and their values can be modified throughout the program execution.\n"
   ]
  },
  {
   "cell_type": "markdown",
   "metadata": {},
   "source": [
    "## Question 3\n",
    "Describe three different data types commonly used in programming"
   ]
  },
  {
   "cell_type": "markdown",
   "metadata": {},
   "source": [
    "1. Integer (int):\n",
    "   - An integer is a data type used to represent whole numbers without any decimal or fractional part.\n",
    "   - Integers can be positive, negative, or zero.\n",
    "   - Examples of integers include -10, 0, 42, 100, etc.\n",
    "   - Integers are often used for counting, indexing, and arithmetic operations.\n",
    "\n",
    "2. String:\n",
    "   - A string is a data type used to represent text or a sequence of characters.\n",
    "   - Strings are typically enclosed within single quotes (' ') or double quotes (\" \") in most programming languages.\n",
    "   - Examples of strings include \"hello\", \"123\", \"This is a string!\", etc.\n",
    "   - Strings are commonly used for representing textual data, such as names, messages, file paths, etc.\n",
    "\n",
    "3. Float (Floating-point number):\n",
    "   - A float is a data type used to represent numbers with a decimal point or fractional part.\n",
    "   - Floats can represent a wide range of real numbers, including both rational and irrational numbers.\n",
    "   - Examples of floats include -3.14, 0.5, 2.71828, etc.\n",
    "   - Floats are commonly used in scientific calculations, financial applications, and any scenario requiring precise decimal values.\n",
    "\n",
    "These three data types represent a foundational set of data structures used in programming, enabling developers to manipulate and process various kinds of data in their programs."
   ]
  },
  {
   "cell_type": "markdown",
   "metadata": {},
   "source": [
    "## Question 4\n",
    "What is an expression made up of? What is the general purpose of expressions?\n"
   ]
  },
  {
   "cell_type": "markdown",
   "metadata": {},
   "source": [
    "An expression is made up of a combination of variables, constants, operators, and function calls that are evaluated to produce a value. In programming, expressions can take various forms, such as arithmetic expressions, logical expressions, string expressions, etc. Here are some examples:\n",
    "\n",
    "- Arithmetic expression: 2 + 3 * x\n",
    "- Logical expression: x > 5 and y < 10\n",
    "- String expression: \"Hello, \" + name\n",
    "\n",
    "The general purpose of expressions is to compute or evaluate a value based on the provided inputs or operands. Expressions allow programmers to perform operations, manipulate data, and make decisions within their programs. They are essential building blocks in programming languages, enabling the creation of complex algorithms and logic to solve various problems. Additionally, expressions are often used in assignments, comparisons, function calls, and control flow statements to perform specific tasks and achieve desired outcomes in a program."
   ]
  },
  {
   "cell_type": "markdown",
   "metadata": {},
   "source": [
    "## Question 5\n",
    "\n",
    "Explain the difference between an expression and a statement, using examples if necessary."
   ]
  },
  {
   "cell_type": "markdown",
   "metadata": {},
   "source": [
    "In programming, an expression is a combination of variables, constants, operators, and function calls that evaluates to a single value. On the other hand, a statement is a complete line of code that performs an action, such as assigning a value to a variable, calling a function, or controlling the flow of execution within a program.\n",
    "\n",
    "Here are some key differences between expressions and statements:\n",
    "\n",
    "1. Evaluation:\n",
    "   - Expressions are evaluated to produce a value. For example, 2 + 3 is an expression that evaluates to 5.\n",
    "   - Statements, on the other hand, are not evaluated to produce a value. They perform actions or operations in a program. For example, x = 5 is a statement that assigns the value 5 to the variable x.\n",
    "\n",
    "2. Termination:\n",
    "   - Expressions do not terminate a program execution. They are often used as part of statements or within larger expressions. For example, total = x + y is a statement that assigns the sum of x and y to the variable total, where x and y could be expressions.\n",
    "   - Statements, however, can terminate a program execution, depending on their purpose and context. For example, return statements in functions terminate the function execution and return a value to the caller.\n",
    "\n",
    "3. Examples:\n",
    "   - Expression: 2 * (3 + 4) evaluates to 14.\n",
    "   - Statement: x = 5 assigns the value 5 to the variable x.\n"
   ]
  },
  {
   "cell_type": "markdown",
   "metadata": {},
   "source": [
    "## Question 6\n",
    "After running the following code, what does the variable \"bacon\" contain?\n",
    "\n",
    "bacon = 22 <br>\n",
    "\n",
    "bacon + 1"
   ]
  },
  {
   "cell_type": "markdown",
   "metadata": {},
   "source": [
    "After running the given code, the variable \"bacon\" contains the value \"22\".\n",
    "\n",
    "However, the expression bacon + 1 evaluates to *23, but this value is not assigned back to the variable \"bacon\". So, if you print \"bacon\" after the expression, it will still contain the original value of 22."
   ]
  },
  {
   "cell_type": "markdown",
   "metadata": {},
   "source": [
    "## Question 7\n",
    "Determine the values of the following two terms:<br>\n",
    "'spam' + 'spamspam'<br>\n",
    "'spam' * 3\n",
    "\n"
   ]
  },
  {
   "cell_type": "markdown",
   "metadata": {},
   "source": [
    "Let's break down each expression:\n",
    "\n",
    "1. 'spam' + 'spamspam': This concatenates the two strings 'spam' and 'spamspam'.\n",
    "   - Result: 'spamspamspam'\n"
   ]
  },
  {
   "cell_type": "markdown",
   "metadata": {},
   "source": [
    "## Question 8\n",
    "\n",
    "Why is \"eggs\" a valid variable name while \"100\" is invalid?"
   ]
  },
  {
   "cell_type": "markdown",
   "metadata": {},
   "source": [
    "In Python, variable names must follow certain rules to be considered valid:\n",
    "\n",
    "1. Variable names must start with a letter (a-z, A-Z) or an underscore (_).\n",
    "2. Subsequent characters in the variable name can be letters, digits (0-9), or underscores (_).\n",
    "3. Variable names are case-sensitive.\n",
    "\n",
    "Based on these rules:\n",
    "\n",
    "- \"eggs\" is a valid variable name because it starts with a letter ('e') and contains only letters.\n",
    "- \"100\" is an invalid variable name because it starts with a digit ('1'). Variable names cannot start with a digit in Python.\n",
    "\n",
    "However, \"100_eggs\" would be a valid variable name because it starts with an underscore, followed by a digit, and then letters, which follows the rules for valid variable names."
   ]
  },
  {
   "cell_type": "markdown",
   "metadata": {},
   "source": [
    "## Question 9\n",
    "\n",
    "List three functions that can be used to obtain the integer, floating-point number, or string version of a value."
   ]
  },
  {
   "cell_type": "markdown",
   "metadata": {},
   "source": [
    " Here are three functions in Python that can be used to obtain the integer, floating-point number, or string version of a value:\n",
    "\n",
    "1. *Integer Conversion Function*: int()\n",
    "   - This function converts a value to an integer.\n",
    "   - Example: int('10') converts the string '10' to the integer 10.\n",
    "\n",
    "2. *Floating-Point Conversion Function*: float()\n",
    "   - This function converts a value to a floating-point number.\n",
    "   - Example: float('3.14') converts the string '3.14' to the floating-point number 3.14.\n",
    "\n",
    "3. *String Conversion Function*: str()\n",
    "   - This function converts a value to a string.\n",
    "   - Example: str(42) converts the integer 42 to the string '42'.\n",
    "\n",
    "These functions are useful for converting values between different data types in Python."
   ]
  },
  {
   "cell_type": "markdown",
   "metadata": {},
   "source": [
    "## Question 10 \n",
    "Explain why the following expression causes an error and suggest how to fix it:<br>\n",
    "'I have eaten ' + 99 + ' burritos.'\n",
    "\n"
   ]
  },
  {
   "cell_type": "markdown",
   "metadata": {},
   "source": [
    "The provided expression \"I have eaten ' + 99 + 'burritos.\" causes an error because it attempts to concatenate a string with an integer value (99) without converting the integer to a string first. In Python, string concatenation can only be performed between strings.\n",
    "\n",
    "To fix this error, you need to convert the integer 99 to a string before concatenating it with the other strings. Here's the corrected expression:\n",
    "\n",
    "\"I have eaten ' + str(99) + ' burritos.\"\n",
    "\n",
    "\n",
    "In this corrected expression:\n",
    "- str(99) converts the integer 99 to a string.\n",
    "- The string 'I have eaten ' and ' burritos.' are already strings.\n",
    "- Now, all parts of the expression are strings, and concatenation can be performed without errors."
   ]
  },
  {
   "cell_type": "markdown",
   "metadata": {},
   "source": [
    "## Question 11\n",
    "Write a Python program to calculate the sum of two numbers and print the result.\n",
    "gative, or zero."
   ]
  },
  {
   "cell_type": "code",
   "execution_count": 2,
   "metadata": {},
   "outputs": [
    {
     "name": "stdout",
     "output_type": "stream",
     "text": [
      "result 20\n"
     ]
    }
   ],
   "source": [
    "num1 = 10\n",
    "num2 = 10\n",
    "print(\"result\",num1 + num2)"
   ]
  },
  {
   "cell_type": "markdown",
   "metadata": {},
   "source": [
    "## Question 12\n",
    "Create a Python program that takes the user's name as input and prints a greeting message.\n",
    "\n"
   ]
  },
  {
   "cell_type": "code",
   "execution_count": 7,
   "metadata": {},
   "outputs": [
    {
     "name": "stdout",
     "output_type": "stream",
     "text": [
      "Hello, Rahul Welcome.\n"
     ]
    }
   ],
   "source": [
    "name = input(\"Enter your name: \")\n",
    "print(\"Hello, \" + name + \" Welcome.\")"
   ]
  },
  {
   "cell_type": "markdown",
   "metadata": {},
   "source": [
    "## Question 13\n",
    "Write a Python program to calculate the area of a rectangle given its length and width. (Assume length and width are provided as inputs.)\n",
    "\n"
   ]
  },
  {
   "cell_type": "code",
   "execution_count": 9,
   "metadata": {},
   "outputs": [
    {
     "name": "stdout",
     "output_type": "stream",
     "text": [
      "The area of the rectangle is: 16.0\n"
     ]
    }
   ],
   "source": [
    "length = float(input(\"Enter the length of the rectangle: \"))\n",
    "width = float(input(\"Enter the width of the rectangle: \"))\n",
    "\n",
    "area = length * width\n",
    "\n",
    "print(\"The area of the rectangle is:\",area)"
   ]
  },
  {
   "cell_type": "markdown",
   "metadata": {},
   "source": [
    "## Question 14\n",
    "Create a Python program that asks the user for their age and prints out a message saying whether they are a child, teenager, or adult based on their age.\n",
    "\n"
   ]
  },
  {
   "cell_type": "code",
   "execution_count": 10,
   "metadata": {},
   "outputs": [
    {
     "name": "stdout",
     "output_type": "stream",
     "text": [
      "You are a teenager.\n"
     ]
    }
   ],
   "source": [
    "age = int(input(\"Enter your age: \"))\n",
    "\n",
    "if age < 13:\n",
    "    print(\"You are a child.\")\n",
    "elif age < 20:\n",
    "    print(\"You are a teenager.\")\n",
    "else:\n",
    "    print(\"You are an adult.\")"
   ]
  },
  {
   "cell_type": "markdown",
   "metadata": {},
   "source": [
    "## Question 15\n",
    "Write a Python program to convert temperature from Celsius to Fahrenheit. (Assume Celsius temperature is provided as input.)\n",
    "\n"
   ]
  },
  {
   "cell_type": "code",
   "execution_count": 11,
   "metadata": {},
   "outputs": [
    {
     "name": "stdout",
     "output_type": "stream",
     "text": [
      "The temperature in Fahrenheit is: 53.6\n"
     ]
    }
   ],
   "source": [
    "celsius = float(input(\"Enter the temperature in Celsius: \"))\n",
    "fahrenheit = (celsius * 9/5) + 32\n",
    "print(\"The temperature in Fahrenheit is:\",fahrenheit)"
   ]
  },
  {
   "cell_type": "markdown",
   "metadata": {},
   "source": [
    "## Question 16\n",
    "Create a Python program that takes the radius of a circle as input and calculates its area. (Assume the value of pi is 3.14.)\n",
    "\n"
   ]
  },
  {
   "cell_type": "code",
   "execution_count": 12,
   "metadata": {},
   "outputs": [
    {
     "name": "stdout",
     "output_type": "stream",
     "text": [
      "The area of the circle is: 12.56\n"
     ]
    }
   ],
   "source": [
    "radius = float(input(\"Enter the radius of the circle: \"))\n",
    "pi = 3.14\n",
    "area = pi * radius ** 2\n",
    "print(\"The area of the circle is:\",area)"
   ]
  },
  {
   "cell_type": "markdown",
   "metadata": {},
   "source": [
    "## Question 17\n",
    "Write a Python program to find the maximum of two numbers entered by the user.\n",
    "\n"
   ]
  },
  {
   "cell_type": "code",
   "execution_count": 14,
   "metadata": {},
   "outputs": [
    {
     "name": "stdout",
     "output_type": "stream",
     "text": [
      "The maximum of 4 and 8 is: 8\n"
     ]
    }
   ],
   "source": [
    "num1 = int(input(\"Enter the first number: \"))\n",
    "num2 = int(input(\"Enter the second number: \"))\n",
    "\n",
    "maximum = max(num1, num2)\n",
    "print(\"The maximum of\", num1, \"and\", num2,\"is:\",maximum)"
   ]
  },
  {
   "cell_type": "markdown",
   "metadata": {},
   "source": [
    "## Question 18\n",
    "Create a Python program that asks the user to enter two numbers and prints out their product.\n",
    "\n"
   ]
  },
  {
   "cell_type": "code",
   "execution_count": 15,
   "metadata": {},
   "outputs": [
    {
     "name": "stdout",
     "output_type": "stream",
     "text": [
      "The product of 2.0 and 3.0 is: 6.0\n"
     ]
    }
   ],
   "source": [
    "num1 = float(input(\"Enter the first number: \"))\n",
    "num2 = float(input(\"Enter the second number: \"))\n",
    "\n",
    "product = num1 * num2\n",
    "print(\"The product of\", num1, \"and\", num2,\"is:\",product)"
   ]
  },
  {
   "cell_type": "markdown",
   "metadata": {},
   "source": [
    "## Question 19\n",
    "Write a Python program that prompts the user to enter a number and then prints whether the number is positive, negative, or zero."
   ]
  },
  {
   "cell_type": "code",
   "execution_count": 16,
   "metadata": {},
   "outputs": [
    {
     "name": "stdout",
     "output_type": "stream",
     "text": [
      "The number is positive.\n"
     ]
    }
   ],
   "source": [
    "number = float(input(\"Enter a number: \"))\n",
    "\n",
    "if number > 0:\n",
    "    print(\"The number is positive.\")\n",
    "elif number < 0:\n",
    "    print(\"The number is negative.\")\n",
    "else:\n",
    "    print(\"The number is zero.\")"
   ]
  }
 ],
 "metadata": {
  "anaconda-cloud": {},
  "kernelspec": {
   "display_name": "Python 3 (ipykernel)",
   "language": "python",
   "name": "python3"
  },
  "language_info": {
   "codemirror_mode": {
    "name": "ipython",
    "version": 3
   },
   "file_extension": ".py",
   "mimetype": "text/x-python",
   "name": "python",
   "nbconvert_exporter": "python",
   "pygments_lexer": "ipython3",
   "version": "3.12.1"
  }
 },
 "nbformat": 4,
 "nbformat_minor": 4
}
